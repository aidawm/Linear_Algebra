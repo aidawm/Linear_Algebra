{
 "cells": [
  {
   "cell_type": "markdown",
   "id": "ebbfa7a6",
   "metadata": {},
   "source": [
    "# import libraries"
   ]
  },
  {
   "cell_type": "code",
   "execution_count": 1,
   "id": "4da1ebc3",
   "metadata": {},
   "outputs": [],
   "source": [
    "import numpy as np\n",
    "import matplotlib.pyplot as plt\n",
    "import pandas as pd\n",
    "from LinearEquation_EchelonForm import make_matrix_to_reduced_echlon_form"
   ]
  },
  {
   "cell_type": "markdown",
   "id": "05037f8a",
   "metadata": {},
   "source": [
    "# read data"
   ]
  },
  {
   "cell_type": "code",
   "execution_count": 2,
   "id": "8e9bacf4",
   "metadata": {},
   "outputs": [],
   "source": [
    "data = pd.read_csv(\"data.csv\",header=None)"
   ]
  },
  {
   "cell_type": "code",
   "execution_count": 3,
   "id": "4faf8070",
   "metadata": {},
   "outputs": [],
   "source": [
    "row_number = len(data)"
   ]
  },
  {
   "cell_type": "code",
   "execution_count": 4,
   "id": "e46460c4",
   "metadata": {},
   "outputs": [],
   "source": [
    "train_num = int(0.95*row_number)\n",
    "x_train = np.array(data[0][0:train_num])\n",
    "y_train = np.array(data[1][0:train_num])\n",
    "x_test = np.array(data[0][train_num:])\n",
    "y_test = np.array(data[1][train_num:])"
   ]
  },
  {
   "cell_type": "code",
   "execution_count": 5,
   "id": "9613c7bf",
   "metadata": {},
   "outputs": [],
   "source": [
    "X_train = np.array([np.ones(train_num),x_train]).T"
   ]
  },
  {
   "cell_type": "code",
   "execution_count": 6,
   "id": "c6159d94",
   "metadata": {},
   "outputs": [],
   "source": [
    "X_train_T = X_train.T"
   ]
  },
  {
   "cell_type": "code",
   "execution_count": 7,
   "id": "dd5a0909",
   "metadata": {},
   "outputs": [],
   "source": [
    "y = np.asmatrix(y_train).T"
   ]
  },
  {
   "cell_type": "markdown",
   "id": "c8994beb",
   "metadata": {},
   "source": [
    "# Computing the least-squares"
   ]
  },
  {
   "cell_type": "markdown",
   "id": "1818a2c4",
   "metadata": {},
   "source": [
    "## Train "
   ]
  },
  {
   "cell_type": "code",
   "execution_count": 8,
   "id": "19290e04",
   "metadata": {},
   "outputs": [
    {
     "data": {
      "text/plain": [
       "(2, 2)"
      ]
     },
     "execution_count": 8,
     "metadata": {},
     "output_type": "execute_result"
    }
   ],
   "source": [
    "A= np.matmul(X_train_T,X_train)\n",
    "A.shape"
   ]
  },
  {
   "cell_type": "code",
   "execution_count": 10,
   "id": "a9160b13",
   "metadata": {},
   "outputs": [
    {
     "data": {
      "text/plain": [
       "(2, 1)"
      ]
     },
     "execution_count": 10,
     "metadata": {},
     "output_type": "execute_result"
    }
   ],
   "source": [
    "B = np.matmul(X_train_T, y)\n",
    "B.shape"
   ]
  },
  {
   "cell_type": "code",
   "execution_count": 11,
   "id": "3f73b20d",
   "metadata": {
    "scrolled": true
   },
   "outputs": [
    {
     "data": {
      "text/plain": [
       "matrix([[9.50000000e+01, 4.67324629e+03, 6.91494487e+03],\n",
       "        [4.67324629e+03, 2.38714737e+05, 3.52108145e+05]])"
      ]
     },
     "execution_count": 11,
     "metadata": {},
     "output_type": "execute_result"
    }
   ],
   "source": [
    "M = np.append(A,B,axis=1)\n",
    "M"
   ]
  },
  {
   "cell_type": "code",
   "execution_count": 12,
   "id": "600e6fa6",
   "metadata": {},
   "outputs": [],
   "source": [
    "make_matrix_to_reduced_echlon_form(M)"
   ]
  },
  {
   "cell_type": "code",
   "execution_count": 13,
   "id": "69ef09c3",
   "metadata": {
    "scrolled": true
   },
   "outputs": [
    {
     "data": {
      "text/plain": [
       "matrix([[1.        , 0.        , 6.21361309],\n",
       "        [0.        , 1.        , 1.35337434]])"
      ]
     },
     "execution_count": 13,
     "metadata": {},
     "output_type": "execute_result"
    }
   ],
   "source": [
    "M"
   ]
  },
  {
   "cell_type": "code",
   "execution_count": 19,
   "id": "ed4162d8",
   "metadata": {},
   "outputs": [
    {
     "data": {
      "text/plain": [
       "matrix([[6.21361309]])"
      ]
     },
     "execution_count": 19,
     "metadata": {},
     "output_type": "execute_result"
    }
   ],
   "source": [
    "best_weights = M[:,-1]\n",
    "best_weights"
   ]
  },
  {
   "cell_type": "code",
   "execution_count": 44,
   "id": "ce2628d3",
   "metadata": {},
   "outputs": [],
   "source": [
    "least_square = lambda x1 : best_weights[0]+best_weights[1]*x1\n",
    "least_square_model = lambda x1 : least_square(x1).item((0,0))"
   ]
  },
  {
   "cell_type": "markdown",
   "id": "a08c92ac",
   "metadata": {},
   "source": [
    "## Test"
   ]
  },
  {
   "cell_type": "code",
   "execution_count": 45,
   "id": "d83c83ca",
   "metadata": {},
   "outputs": [],
   "source": [
    "def print_test_result(x0,y0):\n",
    "    predict= least_square_model(x0)\n",
    "    print(\"Blood cell concentration = \",x0)\n",
    "    print(\"    real value = \",y0)\n",
    "    print(\"    estimated value = \",predict)\n",
    "    print(\"    error = \",abs(y0-predict))\n",
    "    print(\"-------------------------------------------------------\")\n",
    "    "
   ]
  },
  {
   "cell_type": "code",
   "execution_count": 50,
   "id": "608062f9",
   "metadata": {},
   "outputs": [
    {
     "name": "stdout",
     "output_type": "stream",
     "text": [
      "Blood cell concentration =  50.03017434031214\n",
      "    real value =  81.53699078301504\n",
      "    estimated value =  73.92316747985068\n",
      "    error =  7.6138233031643665\n",
      "-------------------------------------------------------\n",
      "Blood cell concentration =  49.23976534275376\n",
      "    real value =  72.11183246961566\n",
      "    estimated value =  72.85344822115135\n",
      "    error =  0.74161575153569\n",
      "-------------------------------------------------------\n",
      "Blood cell concentration =  50.039575939875995\n",
      "    real value =  85.23200734232566\n",
      "    estimated value =  73.93589136349459\n",
      "    error =  11.296115978831068\n",
      "-------------------------------------------------------\n",
      "Blood cell concentration =  48.14985889102886\n",
      "    real value =  66.22495788805463\n",
      "    estimated value =  71.37839679183783\n",
      "    error =  5.153438903783197\n",
      "-------------------------------------------------------\n",
      "Blood cell concentration =  25.128484647772304\n",
      "    real value =  53.45439421485053\n",
      "    estimated value =  40.221859523400354\n",
      "    error =  13.232534691450176\n",
      "-------------------------------------------------------\n",
      "mean square error =  77.55608846347914\n"
     ]
    }
   ],
   "source": [
    "total_error =0\n",
    "for i in range(len(x_test)):\n",
    "    print_test_result(x_test[i],y_test[i])\n",
    "    total_error += pow((y_test[i]-least_square_model(x_test[i])),2)\n",
    "\n",
    "print (\"mean square error = \", total_error/len(x_test))"
   ]
  },
  {
   "cell_type": "code",
   "execution_count": 41,
   "id": "8a52f4b3",
   "metadata": {},
   "outputs": [
    {
     "data": {
      "text/plain": [
       "matrix([[ 50.20145331,  78.52007896,  89.48722103,  70.46592575,\n",
       "          87.16327407,  80.84163617,  76.8757192 ,  59.40063839,\n",
       "          71.31774234,  77.33345443,  67.68351059,  79.77172131,\n",
       "          65.98410462,  84.937329  ,  82.98676109,  72.46925667,\n",
       "          66.69211799,  87.81846828,  67.95271519,  58.74729807,\n",
       "          95.79321273,  94.74601922,  70.47346265,  62.48102115,\n",
       "          76.37955892,  86.5645604 ,  83.77550141,  92.30928158,\n",
       "          69.46710811,  74.6358352 ,  76.89222955,  54.35020176,\n",
       "          63.64605225,  84.93200942,  84.03865717,  67.71166156,\n",
       "          89.98237287,  51.00195592,  55.52517357,  57.20287778,\n",
       "          66.51403037,  64.83946544,  73.98132372,  65.58697471,\n",
       "          91.47278728,  50.42705877,  60.5744637 ,  78.72074851,\n",
       "          52.04457282,  93.78659445,  57.80400494,  66.44220636,\n",
       "          61.15998673,  62.6773061 ,  75.35566055,  80.75489502,\n",
       "          62.21316661,  90.79233324,  72.80489212,  61.8409327 ,\n",
       "          61.94829713,  74.13458506,  77.10125839,  74.06569288,\n",
       "          51.74749502,  59.75026172,  82.17904125,  83.84594278,\n",
       "          87.7804216 ,  54.49943001,  48.96416022,  78.8369421 ,\n",
       "          69.39214368,  64.55463101, 101.41818704,  66.42910274,\n",
       "          84.03877314,  56.1938313 ,  81.73966088,  58.93399814,\n",
       "          83.22225722,  83.17852423,  52.67918322,  86.13001788,\n",
       "          84.42271284,  79.67792411,  75.35577588,  74.26511376,\n",
       "          66.04865009,  57.6492655 ,  50.79441353,  78.87850059,\n",
       "          99.27939361,  68.78141706,  98.67528323]])"
      ]
     },
     "execution_count": 41,
     "metadata": {},
     "output_type": "execute_result"
    }
   ],
   "source": [
    "y_hat = least_square_model(x_train)\n",
    "y_hat"
   ]
  },
  {
   "cell_type": "code",
   "execution_count": 42,
   "id": "548500e6",
   "metadata": {},
   "outputs": [
    {
     "data": {
      "image/png": "[encoded data removed]",
      "text/plain": [
       "<Figure size 288x216 with 1 Axes>"
      ]
     },
     "metadata": {
      "needs_background": "light"
     },
     "output_type": "display_data"
    }
   ],
   "source": [
    "plt.figure(figsize=(4, 3))\n",
    "ax = plt.axes()\n",
    "ax.scatter(x_train, y_train)\n",
    "ax.plot(x_train, y_hat.T,'r')\n",
    "ax.set_xlabel('x')\n",
    "ax.set_ylabel('y')\n",
    "ax.axis('tight')\n",
    "\n",
    "plt.show()"
   ]
  },
  {
   "cell_type": "code",
   "execution_count": 52,
   "id": "2c2d0d3d",
   "metadata": {},
   "outputs": [],
   "source": [
    "from sklearn.linear_model import LinearRegression\n",
    "    "
   ]
  },
  {
   "cell_type": "code",
   "execution_count": 58,
   "id": "2d0b14bf",
   "metadata": {},
   "outputs": [
    {
     "ename": "ValueError",
     "evalue": "Found input variables with inconsistent numbers of samples: [1, 95]",
     "output_type": "error",
     "traceback": [
      "\u001b[0;31m---------------------------------------------------------------------------\u001b[0m",
      "\u001b[0;31mValueError\u001b[0m                                Traceback (most recent call last)",
      "Input \u001b[0;32mIn [58]\u001b[0m, in \u001b[0;36m<cell line: 1>\u001b[0;34m()\u001b[0m\n\u001b[0;32m----> 1\u001b[0m reg \u001b[38;5;241m=\u001b[39m \u001b[43mLinearRegression\u001b[49m\u001b[43m(\u001b[49m\u001b[43m)\u001b[49m\u001b[38;5;241;43m.\u001b[39;49m\u001b[43mfit\u001b[49m\u001b[43m(\u001b[49m\u001b[43mnp\u001b[49m\u001b[38;5;241;43m.\u001b[39;49m\u001b[43marray\u001b[49m\u001b[43m(\u001b[49m\u001b[43m[\u001b[49m\u001b[43mdata\u001b[49m\u001b[43m[\u001b[49m\u001b[38;5;241;43m0\u001b[39;49m\u001b[43m]\u001b[49m\u001b[43m[\u001b[49m\u001b[38;5;241;43m0\u001b[39;49m\u001b[43m:\u001b[49m\u001b[43mtrain_num\u001b[49m\u001b[43m]\u001b[49m\u001b[43m]\u001b[49m\u001b[43m)\u001b[49m\u001b[43m,\u001b[49m\u001b[43m \u001b[49m\u001b[43mnp\u001b[49m\u001b[38;5;241;43m.\u001b[39;49m\u001b[43marray\u001b[49m\u001b[43m(\u001b[49m\u001b[43mdata\u001b[49m\u001b[43m[\u001b[49m\u001b[38;5;241;43m1\u001b[39;49m\u001b[43m]\u001b[49m\u001b[43m[\u001b[49m\u001b[38;5;241;43m0\u001b[39;49m\u001b[43m:\u001b[49m\u001b[43mtrain_num\u001b[49m\u001b[43m]\u001b[49m\u001b[43m)\u001b[49m\u001b[43m)\u001b[49m\n\u001b[1;32m      2\u001b[0m eg\u001b[38;5;241m.\u001b[39mcoef_\n",
      "File \u001b[0;32m~/anaconda3/lib/python3.9/site-packages/sklearn/linear_model/_base.py:662\u001b[0m, in \u001b[0;36mLinearRegression.fit\u001b[0;34m(self, X, y, sample_weight)\u001b[0m\n\u001b[1;32m    658\u001b[0m n_jobs_ \u001b[38;5;241m=\u001b[39m \u001b[38;5;28mself\u001b[39m\u001b[38;5;241m.\u001b[39mn_jobs\n\u001b[1;32m    660\u001b[0m accept_sparse \u001b[38;5;241m=\u001b[39m \u001b[38;5;28;01mFalse\u001b[39;00m \u001b[38;5;28;01mif\u001b[39;00m \u001b[38;5;28mself\u001b[39m\u001b[38;5;241m.\u001b[39mpositive \u001b[38;5;28;01melse\u001b[39;00m [\u001b[38;5;124m\"\u001b[39m\u001b[38;5;124mcsr\u001b[39m\u001b[38;5;124m\"\u001b[39m, \u001b[38;5;124m\"\u001b[39m\u001b[38;5;124mcsc\u001b[39m\u001b[38;5;124m\"\u001b[39m, \u001b[38;5;124m\"\u001b[39m\u001b[38;5;124mcoo\u001b[39m\u001b[38;5;124m\"\u001b[39m]\n\u001b[0;32m--> 662\u001b[0m X, y \u001b[38;5;241m=\u001b[39m \u001b[38;5;28;43mself\u001b[39;49m\u001b[38;5;241;43m.\u001b[39;49m\u001b[43m_validate_data\u001b[49m\u001b[43m(\u001b[49m\n\u001b[1;32m    663\u001b[0m \u001b[43m    \u001b[49m\u001b[43mX\u001b[49m\u001b[43m,\u001b[49m\u001b[43m \u001b[49m\u001b[43my\u001b[49m\u001b[43m,\u001b[49m\u001b[43m \u001b[49m\u001b[43maccept_sparse\u001b[49m\u001b[38;5;241;43m=\u001b[39;49m\u001b[43maccept_sparse\u001b[49m\u001b[43m,\u001b[49m\u001b[43m \u001b[49m\u001b[43my_numeric\u001b[49m\u001b[38;5;241;43m=\u001b[39;49m\u001b[38;5;28;43;01mTrue\u001b[39;49;00m\u001b[43m,\u001b[49m\u001b[43m \u001b[49m\u001b[43mmulti_output\u001b[49m\u001b[38;5;241;43m=\u001b[39;49m\u001b[38;5;28;43;01mTrue\u001b[39;49;00m\n\u001b[1;32m    664\u001b[0m \u001b[43m\u001b[49m\u001b[43m)\u001b[49m\n\u001b[1;32m    666\u001b[0m \u001b[38;5;28;01mif\u001b[39;00m sample_weight \u001b[38;5;129;01mis\u001b[39;00m \u001b[38;5;129;01mnot\u001b[39;00m \u001b[38;5;28;01mNone\u001b[39;00m:\n\u001b[1;32m    667\u001b[0m     sample_weight \u001b[38;5;241m=\u001b[39m _check_sample_weight(sample_weight, X, dtype\u001b[38;5;241m=\u001b[39mX\u001b[38;5;241m.\u001b[39mdtype)\n",
      "File \u001b[0;32m~/anaconda3/lib/python3.9/site-packages/sklearn/base.py:581\u001b[0m, in \u001b[0;36mBaseEstimator._validate_data\u001b[0;34m(self, X, y, reset, validate_separately, **check_params)\u001b[0m\n\u001b[1;32m    579\u001b[0m         y \u001b[38;5;241m=\u001b[39m check_array(y, \u001b[38;5;241m*\u001b[39m\u001b[38;5;241m*\u001b[39mcheck_y_params)\n\u001b[1;32m    580\u001b[0m     \u001b[38;5;28;01melse\u001b[39;00m:\n\u001b[0;32m--> 581\u001b[0m         X, y \u001b[38;5;241m=\u001b[39m \u001b[43mcheck_X_y\u001b[49m\u001b[43m(\u001b[49m\u001b[43mX\u001b[49m\u001b[43m,\u001b[49m\u001b[43m \u001b[49m\u001b[43my\u001b[49m\u001b[43m,\u001b[49m\u001b[43m \u001b[49m\u001b[38;5;241;43m*\u001b[39;49m\u001b[38;5;241;43m*\u001b[39;49m\u001b[43mcheck_params\u001b[49m\u001b[43m)\u001b[49m\n\u001b[1;32m    582\u001b[0m     out \u001b[38;5;241m=\u001b[39m X, y\n\u001b[1;32m    584\u001b[0m \u001b[38;5;28;01mif\u001b[39;00m \u001b[38;5;129;01mnot\u001b[39;00m no_val_X \u001b[38;5;129;01mand\u001b[39;00m check_params\u001b[38;5;241m.\u001b[39mget(\u001b[38;5;124m\"\u001b[39m\u001b[38;5;124mensure_2d\u001b[39m\u001b[38;5;124m\"\u001b[39m, \u001b[38;5;28;01mTrue\u001b[39;00m):\n",
      "File \u001b[0;32m~/anaconda3/lib/python3.9/site-packages/sklearn/utils/validation.py:981\u001b[0m, in \u001b[0;36mcheck_X_y\u001b[0;34m(X, y, accept_sparse, accept_large_sparse, dtype, order, copy, force_all_finite, ensure_2d, allow_nd, multi_output, ensure_min_samples, ensure_min_features, y_numeric, estimator)\u001b[0m\n\u001b[1;32m    964\u001b[0m X \u001b[38;5;241m=\u001b[39m check_array(\n\u001b[1;32m    965\u001b[0m     X,\n\u001b[1;32m    966\u001b[0m     accept_sparse\u001b[38;5;241m=\u001b[39maccept_sparse,\n\u001b[0;32m   (...)\u001b[0m\n\u001b[1;32m    976\u001b[0m     estimator\u001b[38;5;241m=\u001b[39mestimator,\n\u001b[1;32m    977\u001b[0m )\n\u001b[1;32m    979\u001b[0m y \u001b[38;5;241m=\u001b[39m _check_y(y, multi_output\u001b[38;5;241m=\u001b[39mmulti_output, y_numeric\u001b[38;5;241m=\u001b[39my_numeric)\n\u001b[0;32m--> 981\u001b[0m \u001b[43mcheck_consistent_length\u001b[49m\u001b[43m(\u001b[49m\u001b[43mX\u001b[49m\u001b[43m,\u001b[49m\u001b[43m \u001b[49m\u001b[43my\u001b[49m\u001b[43m)\u001b[49m\n\u001b[1;32m    983\u001b[0m \u001b[38;5;28;01mreturn\u001b[39;00m X, y\n",
      "File \u001b[0;32m~/anaconda3/lib/python3.9/site-packages/sklearn/utils/validation.py:332\u001b[0m, in \u001b[0;36mcheck_consistent_length\u001b[0;34m(*arrays)\u001b[0m\n\u001b[1;32m    330\u001b[0m uniques \u001b[38;5;241m=\u001b[39m np\u001b[38;5;241m.\u001b[39munique(lengths)\n\u001b[1;32m    331\u001b[0m \u001b[38;5;28;01mif\u001b[39;00m \u001b[38;5;28mlen\u001b[39m(uniques) \u001b[38;5;241m>\u001b[39m \u001b[38;5;241m1\u001b[39m:\n\u001b[0;32m--> 332\u001b[0m     \u001b[38;5;28;01mraise\u001b[39;00m \u001b[38;5;167;01mValueError\u001b[39;00m(\n\u001b[1;32m    333\u001b[0m         \u001b[38;5;124m\"\u001b[39m\u001b[38;5;124mFound input variables with inconsistent numbers of samples: \u001b[39m\u001b[38;5;132;01m%r\u001b[39;00m\u001b[38;5;124m\"\u001b[39m\n\u001b[1;32m    334\u001b[0m         \u001b[38;5;241m%\u001b[39m [\u001b[38;5;28mint\u001b[39m(l) \u001b[38;5;28;01mfor\u001b[39;00m l \u001b[38;5;129;01min\u001b[39;00m lengths]\n\u001b[1;32m    335\u001b[0m     )\n",
      "\u001b[0;31mValueError\u001b[0m: Found input variables with inconsistent numbers of samples: [1, 95]"
     ]
    }
   ],
   "source": [
    "reg = LinearRegression().fit(np.array([data[0][0:train_num]]), np.array(data[1][0:train_num]))\n",
    "eg.coef_"
   ]
  },
  {
   "cell_type": "code",
   "execution_count": null,
   "id": "3de69a66",
   "metadata": {},
   "outputs": [],
   "source": []
  }
 ],
 "metadata": {
  "kernelspec": {
   "display_name": "Python 3 (ipykernel)",
   "language": "python",
   "name": "python3"
  },
  "language_info": {
   "codemirror_mode": {
    "name": "ipython",
    "version": 3
   },
   "file_extension": ".py",
   "mimetype": "text/x-python",
   "name": "python",
   "nbconvert_exporter": "python",
   "pygments_lexer": "ipython3",
   "version": "3.9.12"
  }
 },
 "nbformat": 4,
 "nbformat_minor": 5
}
