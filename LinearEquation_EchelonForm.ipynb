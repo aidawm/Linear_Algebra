{
 "cells": [
  {
   "cell_type": "markdown",
   "id": "3875b4f0",
   "metadata": {},
   "source": [
    "# import libraries"
   ]
  },
  {
   "cell_type": "code",
   "execution_count": 1,
   "id": "002da120",
   "metadata": {},
   "outputs": [],
   "source": [
    "import numpy as np"
   ]
  },
  {
   "cell_type": "markdown",
   "id": "10032f1c",
   "metadata": {},
   "source": [
    "# inputs "
   ]
  },
  {
   "cell_type": "markdown",
   "id": "d98fbcf0",
   "metadata": {},
   "source": [
    "## example :\n",
    "**matrix ->** 3x6 <br />\n",
    "**row 1 :** 0 3 -6 6 4 -5<br />\n",
    "**row 2 :** 3 -7 8 -5 8 9<br />\n",
    "**row 3 :** 3 -9 12 -9 6 15<br />"
   ]
  },
  {
   "cell_type": "code",
   "execution_count": 2,
   "id": "f9fe3a93",
   "metadata": {},
   "outputs": [
    {
     "name": "stdout",
     "output_type": "stream",
     "text": [
      "Enter the number of rows and columns of the matrix (augmented matrix) : 3 6\n"
     ]
    }
   ],
   "source": [
    "row, column = list(map(int, input(\"Enter the number of rows and columns \"\n",
    "                                  \"of the matrix (augmented matrix) : \").strip().split()))[:2]"
   ]
  },
  {
   "cell_type": "markdown",
   "id": "1e84e807",
   "metadata": {},
   "source": [
    "## get  augmented matrix"
   ]
  },
  {
   "cell_type": "code",
   "execution_count": 4,
   "id": "ef70a0a5",
   "metadata": {},
   "outputs": [
    {
     "name": "stdout",
     "output_type": "stream",
     "text": [
      "enter the row 1 of the matrix : 0 3 -6 6 4 -5\n",
      "enter the row 2 of the matrix :  3 -7 8 -5 8 9\n",
      "enter the row 3 of the matrix : 3 -9 12 -9 6 15\n"
     ]
    }
   ],
   "source": [
    "A = None\n",
    "for i in range(row):\n",
    "    newrow = list(map(float, input(\"enter the row {} of the matrix : \".format(i+1)).strip().split()))[:column]\n",
    "    if(i == 0):\n",
    "        A = np.array([newrow])\n",
    "        continue\n",
    "    \n",
    "    A = np.vstack([A, newrow])\n"
   ]
  },
  {
   "cell_type": "markdown",
   "id": "8d432db5",
   "metadata": {},
   "source": [
    "# matrix properties"
   ]
  },
  {
   "cell_type": "code",
   "execution_count": 5,
   "id": "51e5ff0a",
   "metadata": {},
   "outputs": [],
   "source": [
    "free_columns = []\n",
    "pivot_points = []"
   ]
  },
  {
   "cell_type": "markdown",
   "id": "14a77228",
   "metadata": {},
   "source": [
    "# Elementry row operations"
   ]
  },
  {
   "cell_type": "code",
   "execution_count": 6,
   "id": "469d1a84",
   "metadata": {},
   "outputs": [],
   "source": [
    "def interchange(matrix , row1 , row2):\n",
    "    \n",
    "    matrix[[row1,row2]] = matrix[[row2,row1]]"
   ]
  },
  {
   "cell_type": "code",
   "execution_count": 7,
   "id": "a9475cbc",
   "metadata": {},
   "outputs": [],
   "source": [
    "def replacement(matrix,pivot_point,selected_row):\n",
    "    \n",
    "    pivot_value = matrix[pivot_point[0],pivot_point[1]]\n",
    "    selected_value = matrix[selected_row,pivot_point[1]]\n",
    "    if(selected_value == 0):\n",
    "        return \n",
    "    \n",
    "    matrix[selected_row,:] = matrix[selected_row,:]*pivot_value-matrix[pivot_point[0],:]*selected_value\n",
    "    "
   ]
  },
  {
   "cell_type": "code",
   "execution_count": 8,
   "id": "c63dbbf2",
   "metadata": {},
   "outputs": [],
   "source": [
    "def scaling(matrix,selected_point):\n",
    "    \n",
    "    selected_value = matrix[selected_point[0],selected_point[1]]\n",
    "    \n",
    "    matrix[selected_point[0],:] = matrix[selected_point[0],:]/selected_value"
   ]
  },
  {
   "cell_type": "markdown",
   "id": "dec65f30",
   "metadata": {},
   "source": [
    "# echelon form"
   ]
  },
  {
   "cell_type": "code",
   "execution_count": 9,
   "id": "9308c0d3",
   "metadata": {},
   "outputs": [],
   "source": [
    "def find_pivot_column(matrix,row,current_column):\n",
    "    col = matrix[:,current_column]\n",
    "    while(col[row]==0):\n",
    "        f =0 \n",
    "        for i in range(row+1,len(col),1): \n",
    "            if (col[i]!=0):\n",
    "                interchange(matrix,row,i)\n",
    "                f=1\n",
    "                break\n",
    "        if(f==0):\n",
    "            \n",
    "            if(current_column == matrix.shape[1]-1):\n",
    "                current_column +=1\n",
    "                return current_column\n",
    "            \n",
    "            free_columns.append(current_column)\n",
    "            current_column+=1\n",
    "            \n",
    "    \n",
    "            col = matrix[:,current_column]\n",
    "    \n",
    "    pivot_points.append((row,current_column))\n",
    "    \n",
    "    return current_column"
   ]
  },
  {
   "cell_type": "code",
   "execution_count": 10,
   "id": "c198630c",
   "metadata": {},
   "outputs": [],
   "source": [
    "def make_matrix_to_echelon_form(matrix):\n",
    "    \n",
    "    r,c = matrix.shape\n",
    "    current_column =0\n",
    "    for i in range(r):\n",
    "        col = matrix[:,current_column]\n",
    "        current_column= find_pivot_column(matrix,i,current_column)\n",
    "        \n",
    "        if current_column == c :\n",
    "            break\n",
    "        \n",
    "        for j in range (i+1,r,1):\n",
    "            replacement(matrix,(i,current_column),j)\n",
    "        \n",
    "        current_column+=1\n",
    "            \n",
    "    "
   ]
  },
  {
   "cell_type": "code",
   "execution_count": 11,
   "id": "e9dcf0d6",
   "metadata": {},
   "outputs": [],
   "source": [
    "make_matrix_to_echelon_form(A)"
   ]
  },
  {
   "cell_type": "code",
   "execution_count": 12,
   "id": "3815eca7",
   "metadata": {},
   "outputs": [
    {
     "data": {
      "text/plain": [
       "array([[ 3., -7.,  8., -5.,  8.,  9.],\n",
       "       [ 0.,  3., -6.,  6.,  4., -5.],\n",
       "       [ 0.,  0.,  0.,  0.,  6., 24.]])"
      ]
     },
     "execution_count": 12,
     "metadata": {},
     "output_type": "execute_result"
    }
   ],
   "source": [
    "A"
   ]
  },
  {
   "cell_type": "code",
   "execution_count": 13,
   "id": "1fac8e3f",
   "metadata": {},
   "outputs": [
    {
     "data": {
      "text/plain": [
       "[2, 3]"
      ]
     },
     "execution_count": 13,
     "metadata": {},
     "output_type": "execute_result"
    }
   ],
   "source": [
    "free_columns"
   ]
  },
  {
   "cell_type": "code",
   "execution_count": 14,
   "id": "e39cfec6",
   "metadata": {},
   "outputs": [
    {
     "data": {
      "text/plain": [
       "[(0, 0), (1, 1), (2, 4)]"
      ]
     },
     "execution_count": 14,
     "metadata": {},
     "output_type": "execute_result"
    }
   ],
   "source": [
    "pivot_points"
   ]
  },
  {
   "cell_type": "markdown",
   "id": "5bb4e42c",
   "metadata": {},
   "source": [
    "# Reduced echelon form"
   ]
  },
  {
   "cell_type": "code",
   "execution_count": 15,
   "id": "e549b296",
   "metadata": {},
   "outputs": [],
   "source": [
    "def make_matrix_to_reduced_echlon_form(matrix,pivots):\n",
    "    for p in pivot_points:\n",
    "        if (p[1]>=matrix.shape[1]):\n",
    "            continue\n",
    "        scaling(matrix,p)\n",
    "        \n",
    "        r,c = p\n",
    "        \n",
    "        for i in range(r-1,-1,-1):\n",
    "            replacement(matrix,p,i)\n",
    "    \n",
    "    \n",
    "    "
   ]
  },
  {
   "cell_type": "code",
   "execution_count": 16,
   "id": "62d12dc5",
   "metadata": {},
   "outputs": [],
   "source": [
    "make_matrix_to_reduced_echlon_form(A,pivot_points)"
   ]
  },
  {
   "cell_type": "code",
   "execution_count": 17,
   "id": "ca60772c",
   "metadata": {},
   "outputs": [
    {
     "data": {
      "text/plain": [
       "array([[  1.,   0.,  -2.,   3.,   0., -24.],\n",
       "       [  0.,   1.,  -2.,   2.,   0.,  -7.],\n",
       "       [  0.,   0.,   0.,   0.,   1.,   4.]])"
      ]
     },
     "execution_count": 17,
     "metadata": {},
     "output_type": "execute_result"
    }
   ],
   "source": [
    "A"
   ]
  },
  {
   "cell_type": "markdown",
   "id": "21bd9a67",
   "metadata": {},
   "source": [
    "# final result "
   ]
  },
  {
   "cell_type": "code",
   "execution_count": 18,
   "id": "5df8b941",
   "metadata": {},
   "outputs": [],
   "source": [
    "def conclusion(matrix,pivots,free_columns):\n",
    "    r,c = matrix.shape\n",
    "    x_i = lambda i : \"x{}\".format(i)\n",
    "    answer_vector = dict()\n",
    "    for i in range(c-1):\n",
    "        answer_vector[x_i(i)]=list()\n",
    "        \n",
    "    for i in free_columns:\n",
    "        if(i == c-1):\n",
    "            continue\n",
    "        answer_vector[x_i(i)].append(x_i(i))\n",
    "    \n",
    "    for p in pivots : \n",
    "        p_r , p_c = p\n",
    "        if(p_c == c-1):\n",
    "            answer_vector={}\n",
    "            break\n",
    "        row = matrix[p_r,:]\n",
    "        for i in range(c):\n",
    "            if(i==p_c):\n",
    "                continue\n",
    "            if(row[i]==0):\n",
    "                continue\n",
    "            if(i==c-1):\n",
    "                answer_vector[x_i(p_c)].append(row[i]) \n",
    "            else :\n",
    "                answer_vector[x_i(p_c)].append((row[i],x_i(i)))\n",
    "    return answer_vector\n",
    "                \n",
    "              "
   ]
  },
  {
   "cell_type": "code",
   "execution_count": 19,
   "id": "1c9ac547",
   "metadata": {},
   "outputs": [],
   "source": [
    "answer_vector = conclusion(A,pivot_points,free_columns)"
   ]
  },
  {
   "cell_type": "code",
   "execution_count": 20,
   "id": "cfb36f8a",
   "metadata": {},
   "outputs": [
    {
     "data": {
      "text/plain": [
       "{'x0': [(-2.0000000000000004, 'x2'), (3.0, 'x3'), -24.0],\n",
       " 'x1': [(-2.0, 'x2'), (2.0, 'x3'), -7.0],\n",
       " 'x2': ['x2'],\n",
       " 'x3': ['x3'],\n",
       " 'x4': [4.0]}"
      ]
     },
     "execution_count": 20,
     "metadata": {},
     "output_type": "execute_result"
    }
   ],
   "source": [
    "answer_vector"
   ]
  },
  {
   "cell_type": "code",
   "execution_count": 21,
   "id": "07df55e1",
   "metadata": {},
   "outputs": [
    {
     "name": "stdout",
     "output_type": "stream",
     "text": [
      "x0 = -34.0\n",
      "x1 = -7.0\n",
      "x2 = 10\n",
      "x3 = 10\n",
      "x4 = 4.0\n"
     ]
    }
   ],
   "source": [
    "premise_value_for_free_var = 10\n",
    "if len(answer_vector) == 0:\n",
    "    print(\"the linear equation doesnt have answer\")\n",
    "\n",
    "else:\n",
    "    for k in answer_vector.keys():\n",
    "        l = answer_vector[k]\n",
    "        k_sum = 0\n",
    "        for e in l :\n",
    "            if(type(e)==str):\n",
    "                k_sum+=premise_value_for_free_var\n",
    "            elif (type(e)==tuple):\n",
    "                k_sum-=e[0]*premise_value_for_free_var\n",
    "            else:\n",
    "                k_sum+=e\n",
    "            \n",
    "        \n",
    "        print(\"{i} = {s}\".format(i=k , s=k_sum))"
   ]
  }
 ],
 "metadata": {
  "kernelspec": {
   "display_name": "Python 3 (ipykernel)",
   "language": "python",
   "name": "python3"
  },
  "language_info": {
   "codemirror_mode": {
    "name": "ipython",
    "version": 3
   },
   "file_extension": ".py",
   "mimetype": "text/x-python",
   "name": "python",
   "nbconvert_exporter": "python",
   "pygments_lexer": "ipython3",
   "version": "3.9.12"
  }
 },
 "nbformat": 4,
 "nbformat_minor": 5
}
